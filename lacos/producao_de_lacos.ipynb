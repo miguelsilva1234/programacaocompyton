{
  "nbformat": 4,
  "nbformat_minor": 0,
  "metadata": {
    "colab": {
      "provenance": [],
      "authorship_tag": "ABX9TyP4j3vg1MFKaEL6EFETjpsw",
      "include_colab_link": true
    },
    "kernelspec": {
      "name": "python3",
      "display_name": "Python 3"
    },
    "language_info": {
      "name": "python"
    }
  },
  "cells": [
    {
      "cell_type": "markdown",
      "metadata": {
        "id": "view-in-github",
        "colab_type": "text"
      },
      "source": [
        "<a href=\"https://colab.research.google.com/github/miguelsilva1234/programacaocompyton/blob/main/producao_de_lacos.ipynb\" target=\"_parent\"><img src=\"https://colab.research.google.com/assets/colab-badge.svg\" alt=\"Open In Colab\"/></a>"
      ]
    },
    {
      "cell_type": "code",
      "execution_count": null,
      "metadata": {
        "colab": {
          "base_uri": "https://localhost:8080/"
        },
        "id": "6sZ2hfE7U7zy",
        "outputId": "101f0652-0a24-4019-97b7-905ff8afa21e"
      },
      "outputs": [
        {
          "output_type": "stream",
          "name": "stdout",
          "text": [
            "Adivinhe um numero secreto entre 1 a 100:15\n",
            "tente um numero maior\n",
            "esta perto!!\n",
            "Adivinhe um numero secreto entre 1 a 100:16\n",
            "tente um numero maior\n",
            "esta perto!!\n",
            "Adivinhe um numero secreto entre 1 a 100:17\n",
            "tente um numero maior\n",
            "esta perto!!\n",
            "Adivinhe um numero secreto entre 1 a 100:18\n",
            "tente um numero maior\n",
            "esta perto!!\n",
            "Adivinhe um numero secreto entre 1 a 100:19\n",
            "tente um numero maior\n",
            "esta perto!!\n",
            "Adivinhe um numero secreto entre 1 a 100:200\n",
            "Valor denconsiderado, tente novamente\n"
          ]
        }
      ],
      "source": [
        "import random\n",
        "secreto = random.randint(1,20)\n",
        "resp = 0\n",
        "counter = 0\n",
        "calc = 0\n",
        "while resp != secreto:\n",
        "  resp = int(input(\"Adivinhe um numero secreto entre 1 a 100:\"))\n",
        "  if resp <= 0 or resp > 100:\n",
        "    print(\"Valor denconsiderado, tente novamente\")\n",
        "    break\n",
        "  if resp > secreto:\n",
        "    print(\"tente um numero maior\")\n",
        "    calc = resp - secreto\n",
        "    if calc <=5:\n",
        "      print(\"esta perto!!\")\n",
        "    elif calc >=5 and calc <= 20:\n",
        "      print(\"Sua tentativa esta quente!\")\n",
        "\n"
      ]
    },
    {
      "cell_type": "code",
      "source": [],
      "metadata": {
        "id": "zV1yVdqgptum"
      },
      "execution_count": null,
      "outputs": []
    }
  ]
}