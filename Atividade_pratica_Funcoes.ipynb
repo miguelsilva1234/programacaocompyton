{
  "nbformat": 4,
  "nbformat_minor": 0,
  "metadata": {
    "colab": {
      "provenance": [],
      "authorship_tag": "ABX9TyPB5yeg8kDm/HhMd17Y6L4j",
      "include_colab_link": true
    },
    "kernelspec": {
      "name": "python3",
      "display_name": "Python 3"
    },
    "language_info": {
      "name": "python"
    }
  },
  "cells": [
    {
      "cell_type": "markdown",
      "metadata": {
        "id": "view-in-github",
        "colab_type": "text"
      },
      "source": [
        "<a href=\"https://colab.research.google.com/github/miguelsilva1234/programacaocompyton/blob/main/Atividade_pratica_Funcoes.ipynb\" target=\"_parent\"><img src=\"https://colab.research.google.com/assets/colab-badge.svg\" alt=\"Open In Colab\"/></a>"
      ]
    },
    {
      "cell_type": "markdown",
      "source": [
        "Atividade Prática de Funções:\n",
        "\n",
        "1) com parâmetro e com retorno:\n",
        "\n",
        "Você foi encarregado de criar um programa para calcular o valor total de uma compra em um supermercado. Crie uma função chamada calcular_total_compra que receba como parâmetro uma lista de preços dos itens comprados e retorne o valor total a ser pago.\n",
        "\n",
        "No programa principal:\n",
        "\n",
        "Peça ao usuário para informar quantos itens ele comprou.\n",
        "Para cada item, solicite o preço e armazene em uma lista.\n",
        "Chame a função e exiba o valor total da compra.\n",
        "\n",
        "Na saída do programa deverá ser assim:\n",
        "\n",
        "Quantos itens você comprou? 3\n",
        "Digite o preço do item 1: 10.50\n",
        "Digite o preço do item 2: 5.20\n",
        "Digite o preço do item 3: 8.30\n",
        "O valor total da compra é: R$ 24.00\n"
      ],
      "metadata": {
        "id": "_JEipe0eEUjP"
      }
    },
    {
      "cell_type": "code",
      "source": [
        "def calcular_total_compra(precos):\n",
        "  total = sum(precos)\n",
        "  return total\n",
        "\n",
        "itens = int(input(\"Quantos itens voce comprou?\"))\n",
        "precos_itens = []\n",
        "\n",
        "for i in range (itens):\n",
        "  preco = float(input(f\"digite o preco do item {i+1}:\"))\n",
        "  precos_itens.append(preco)\n",
        "\n",
        "valor_total = calcular_total_compra(precos_itens)\n",
        "print(f\"o valor total da sua compra e de R$ {valor_total:.2f}\")"
      ],
      "metadata": {
        "colab": {
          "base_uri": "https://localhost:8080/"
        },
        "id": "o_7j8aZzEYvf",
        "outputId": "ccb3d907-3092-4b9e-c9f8-d49cdd3e2f70"
      },
      "execution_count": 2,
      "outputs": [
        {
          "output_type": "stream",
          "name": "stdout",
          "text": [
            "Quantos itens voce comprou?4\n",
            "digite o preco do item 1:10\n",
            "digite o preco do item 2:20\n",
            "digite o preco do item 3:30\n",
            "digite o preco do item 4:50\n",
            "o valor total da sua compra e de R$ 110.00\n"
          ]
        }
      ]
    },
    {
      "cell_type": "markdown",
      "source": [
        "2) Função Sem parâmetro e com retorno\n",
        "\n",
        "Você está organizando uma eleição fictícia com três candidatos. Crie uma função chamada realizar_votacao que:\n",
        "\n",
        "Solicite ao usuário que vote em um dos três candidatos, identificados por números (1, 2 ou 3).\n",
        "Permita que a votação continue até que o usuário digite 0 para encerrar.\n",
        "Ao final, exiba o número total de votos para cada candidato.\n",
        "A função não deve receber parâmetros nem retornar valores; apenas realizar a votação e exibir os resultados no final.\n",
        "\n",
        "Vote no seu candidato:\n",
        "1 - Candidato A\n",
        "2 - Candidato B\n",
        "3 - Candidato C\n",
        "Digite 0 para encerrar.\n",
        "Seu voto: 1\n",
        "Seu voto: 3\n",
        "Seu voto: 2\n",
        "Seu voto: 3\n",
        "Seu voto: 0\n",
        "\n",
        "Resultado da votação:\n",
        "Candidato A: 1 voto(s)\n",
        "Candidato B: 1 voto(s)\n",
        "Candidato C: 2 voto(s)"
      ],
      "metadata": {
        "id": "UKPDwEOzEcFN"
      }
    },
    {
      "cell_type": "code",
      "source": [
        "\n",
        "\n",
        "def realizar_votacao():\n",
        "    votos = {'a': 0, 'b': 0, 'c': 0}\n",
        "\n",
        "    while True:\n",
        "        voto = input(\"Escolha o seu candidato:\\n1 - miguel\\n2 - messi\\n3 - neymar\\nDigite 0 para encerrar a votação.\\nSeu voto: \")\n",
        "\n",
        "        try:\n",
        "            voto = int(voto)\n",
        "\n",
        "            if voto == 1:\n",
        "                votos['a'] += 1\n",
        "            elif voto == 2:\n",
        "                votos['b'] += 1\n",
        "            elif voto == 3:\n",
        "                votos['c'] += 1\n",
        "            elif voto == 0:\n",
        "                break\n",
        "            else:\n",
        "                print(\"Opção inválida. Por favor, escolha um número de 0 a 3.\")\n",
        "        except ValueError:\n",
        "            print(\"Entrada inválida. Por favor, digite um número válido.\")\n",
        "\n",
        "    print(\"\\nResultado da votação:\")\n",
        "    for candidato, quantidade in votos.items():\n",
        "        print(f\"Candidato {candidato}: {quantidade} voto(s)\")"
      ],
      "metadata": {
        "id": "jX2yjTVQEdEI"
      },
      "execution_count": 6,
      "outputs": []
    },
    {
      "cell_type": "code",
      "source": [
        "\n",
        "realizar_votacao()"
      ],
      "metadata": {
        "id": "vt2hLQkEJya0"
      },
      "execution_count": null,
      "outputs": []
    }
  ]
}